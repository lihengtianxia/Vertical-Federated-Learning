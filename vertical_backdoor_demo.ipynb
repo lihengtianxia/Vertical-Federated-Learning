{
 "cells": [
  {
   "cell_type": "code",
   "execution_count": 1,
   "metadata": {},
   "outputs": [],
   "source": [
    "import tensorflow as tf\n",
    "import numpy as np\n",
    "from tensorflow.keras.layers import Dense, Flatten \n",
    "from tensorflow.keras import Model\n",
    "import matplotlib.pyplot as plt\n",
    "\n",
    "# Download a dataset\n",
    "(x_train, y_train), (x_test, y_test) = tf.keras.datasets.mnist.load_data()\n",
    "\n",
    "# Batch and shuffle the data\n",
    "train_ds = tf.data.Dataset.from_tensor_slices(\n",
    "    (x_train.astype('float32') / 255, y_train)).shuffle(1024).batch(32)\n",
    "\n",
    "test_ds = tf.data.Dataset.from_tensor_slices(\n",
    "    (x_test[y_test==2].astype('float32') / 255, y_test[y_test==2])).batch(32)"
   ]
  },
  {
   "cell_type": "code",
   "execution_count": 2,
   "metadata": {},
   "outputs": [],
   "source": [
    "class VFLPassiveModel(Model):\n",
    "    def __init__(self):\n",
    "        super(VFLPassiveModel, self).__init__()\n",
    "        self.flatten = Flatten()\n",
    "        self.d1 = Dense(10, name=\"dense1\")\n",
    "\n",
    "    def call(self, x):\n",
    "        x = self.flatten(x)\n",
    "        return self.d1(x)"
   ]
  },
  {
   "cell_type": "code",
   "execution_count": 3,
   "metadata": {},
   "outputs": [],
   "source": [
    "class VFLActiveModel(Model):\n",
    "    def __init__(self):\n",
    "        super(VFLActiveModel, self).__init__()\n",
    "        self.added = tf.keras.layers.Add()\n",
    "\n",
    "    def call(self, x):\n",
    "        x = self.added(x)\n",
    "        return tf.keras.layers.Softmax()(x)"
   ]
  },
  {
   "cell_type": "code",
   "execution_count": 7,
   "metadata": {},
   "outputs": [
    {
     "name": "stdout",
     "output_type": "stream",
     "text": [
      "Epoch 1, Loss: 0.405218243598938, Accuracy: 88.75, Test Loss: 0.4513963758945465, Test Accuracy: 87.30619812011719\n",
      "Epoch 2, Loss: 0.2906039357185364, Accuracy: 91.85832977294922, Test Loss: 0.4250626266002655, Test Accuracy: 87.8875961303711\n",
      "Epoch 3, Loss: 0.27544891834259033, Accuracy: 92.40166473388672, Test Loss: 0.459330677986145, Test Accuracy: 87.4030990600586\n",
      "Epoch 4, Loss: 0.26715561747550964, Accuracy: 92.53500366210938, Test Loss: 0.4625568687915802, Test Accuracy: 87.1124038696289\n",
      "Epoch 5, Loss: 0.2622341513633728, Accuracy: 92.7066650390625, Test Loss: 0.5050548315048218, Test Accuracy: 86.33721160888672\n"
     ]
    }
   ],
   "source": [
    "passive_model = VFLPassiveModel()\n",
    "active_model = VFLActiveModel()\n",
    "\n",
    "loss_object = tf.keras.losses.SparseCategoricalCrossentropy()\n",
    "optimizer = tf.keras.optimizers.Adam()\n",
    "\n",
    "train_loss = tf.keras.metrics.Mean(name='train_loss')\n",
    "train_accuracy = tf.keras.metrics.SparseCategoricalAccuracy(name='train_accuracy')\n",
    "\n",
    "test_loss = tf.keras.metrics.Mean(name='test_loss')\n",
    "test_accuracy = tf.keras.metrics.SparseCategoricalAccuracy(name='test_accuracy')\n",
    "\n",
    "EPOCHS = 5\n",
    "\n",
    "for epoch in range(EPOCHS):\n",
    "    # For each batch of images and labels\n",
    "    for images, labels in train_ds:\n",
    "        with tf.GradientTape() as passive_tape:\n",
    "            # passive_model sends passive_output to active_model\n",
    "            passive_output = passive_model(images)\n",
    "            with tf.GradientTape() as active_tape:\n",
    "                active_tape.watch(passive_output)\n",
    "                active_output = active_model([passive_output, passive_output])\n",
    "                loss = loss_object(labels, active_output)\n",
    "            # active_model sends passive_output_gradients back to passive_model\n",
    "            passive_output_gradients = active_tape.gradient(loss, passive_output)\n",
    "            #print(passive_output_gradients)\n",
    "            passive_output_lost = tf.multiply(passive_output, passive_output_gradients.numpy())\n",
    "        passive_weight_gradients = passive_tape.gradient(passive_output_lost, passive_model.trainable_variables)\n",
    "        optimizer.apply_gradients(zip(passive_weight_gradients, passive_model.trainable_variables))\n",
    "\n",
    "        train_loss(loss)\n",
    "        train_accuracy(labels, active_output)\n",
    "\n",
    "    for test_images, test_labels in test_ds:\n",
    "        passive_output = passive_model(test_images)\n",
    "        active_output = active_model([passive_output, passive_output])\n",
    "        t_loss = loss_object(test_labels, active_output)\n",
    "\n",
    "        test_loss(t_loss)\n",
    "        test_accuracy(test_labels, active_output)\n",
    "\n",
    "    template = 'Epoch {}, Loss: {}, Accuracy: {}, Test Loss: {}, Test Accuracy: {}'\n",
    "    print(template.format(epoch+1,\n",
    "                        train_loss.result(),\n",
    "                        train_accuracy.result()*100,\n",
    "                        test_loss.result(),\n",
    "                        test_accuracy.result()*100))\n",
    "\n",
    "    # Reset the metrics for the next epoch\n",
    "    train_loss.reset_states()\n",
    "    train_accuracy.reset_states()\n",
    "    test_loss.reset_states()\n",
    "    test_accuracy.reset_states()"
   ]
  },
  {
   "cell_type": "code",
   "execution_count": 4,
   "metadata": {},
   "outputs": [],
   "source": [
    "import numpy as np\n",
    "\n",
    "def get_possioned_gradients(passive_output_gradients, passive_output, N, class1, class2, alpha = 1.0):\n",
    "    passive_output_gradients -= passive_output\n",
    "    #print(passive_output_gradients)\n",
    "    attack_mat = np.eye(N, dtype='float32')\n",
    "    attack_mat[:, class2] += attack_mat[:, class1]*alpha\n",
    "    attack_mat[:, class1] -= attack_mat[:, class1]*alpha\n",
    "    #print(attack_mat)\n",
    "    passive_output_gradients = tf.matmul(passive_output_gradients, attack_mat)\n",
    "    passive_output_gradients += passive_output\n",
    "    return passive_output_gradients"
   ]
  },
  {
   "cell_type": "code",
   "execution_count": 5,
   "metadata": {},
   "outputs": [
    {
     "name": "stdout",
     "output_type": "stream",
     "text": [
      "Epoch 1, Loss: 0.5872719287872314, Accuracy: 81.26000213623047, Test Loss: 1.1180531978607178, Test Accuracy: 45.54263687133789\n",
      "Epoch 2, Loss: 0.47115832567214966, Accuracy: 83.81166076660156, Test Loss: 1.2937822341918945, Test Accuracy: 33.81782913208008\n",
      "Epoch 3, Loss: 0.47255071997642517, Accuracy: 83.44166564941406, Test Loss: 1.4451520442962646, Test Accuracy: 27.03488540649414\n",
      "Epoch 4, Loss: 0.4741647243499756, Accuracy: 83.53666687011719, Test Loss: 1.561234474182129, Test Accuracy: 23.643409729003906\n",
      "Epoch 5, Loss: 0.475004643201828, Accuracy: 83.59000396728516, Test Loss: 1.557436466217041, Test Accuracy: 25.387596130371094\n"
     ]
    }
   ],
   "source": [
    "passive_model = VFLPassiveModel()\n",
    "active_model = VFLActiveModel()\n",
    "\n",
    "loss_object = tf.keras.losses.SparseCategoricalCrossentropy()\n",
    "optimizer = tf.keras.optimizers.Adam()\n",
    "\n",
    "train_loss = tf.keras.metrics.Mean(name='train_loss')\n",
    "train_accuracy = tf.keras.metrics.SparseCategoricalAccuracy(name='train_accuracy')\n",
    "\n",
    "test_loss = tf.keras.metrics.Mean(name='test_loss')\n",
    "test_accuracy = tf.keras.metrics.SparseCategoricalAccuracy(name='test_accuracy')\n",
    "\n",
    "EPOCHS = 5\n",
    "\n",
    "for epoch in range(EPOCHS):\n",
    "    # For each batch of images and labels\n",
    "    for images, labels in train_ds:\n",
    "        with tf.GradientTape() as passive_tape:\n",
    "            # passive_model sends passive_output to active_model\n",
    "            passive_output = passive_model(images)\n",
    "            with tf.GradientTape() as active_tape:\n",
    "                active_tape.watch(passive_output)\n",
    "                active_output = active_model([passive_output, passive_output])\n",
    "                loss = loss_object(labels, active_output)\n",
    "            # active_model sends passive_output_gradients back to passive_model\n",
    "            passive_output_gradients = active_tape.gradient(loss, passive_output)\n",
    "            passive_output_gradients = \\\n",
    "            get_possioned_gradients(passive_output_gradients, passive_output, 10, 2, 4)\n",
    "            passive_output_loss = tf.multiply(passive_output, passive_output_gradients.numpy())\n",
    "        passive_weight_gradients = passive_tape.gradient(passive_output_loss, passive_model.trainable_variables)\n",
    "        optimizer.apply_gradients(zip(passive_weight_gradients, passive_model.trainable_variables))\n",
    "\n",
    "        train_loss(loss)\n",
    "        train_accuracy(labels, active_output)\n",
    "\n",
    "    for test_images, test_labels in test_ds:\n",
    "        passive_output = passive_model(test_images)\n",
    "        active_output = active_model([passive_output, passive_output])\n",
    "        t_loss = loss_object(test_labels, active_output)\n",
    "\n",
    "        test_loss(t_loss)\n",
    "        test_accuracy(test_labels, active_output)\n",
    "\n",
    "    template = 'Epoch {}, Loss: {}, Accuracy: {}, Test Loss: {}, Test Accuracy: {}'\n",
    "    print(template.format(epoch+1,\n",
    "                        train_loss.result(),\n",
    "                        train_accuracy.result()*100,\n",
    "                        test_loss.result(),\n",
    "                        test_accuracy.result()*100))\n",
    "\n",
    "    # Reset the metrics for the next epoch\n",
    "    train_loss.reset_states()\n",
    "    train_accuracy.reset_states()\n",
    "    test_loss.reset_states()\n",
    "    test_accuracy.reset_states()"
   ]
  },
  {
   "cell_type": "code",
   "execution_count": 6,
   "metadata": {},
   "outputs": [
    {
     "name": "stdout",
     "output_type": "stream",
     "text": [
      "[ 14.362151    9.        224.04999    47.196995  522.3977      0.637849\n",
      "  22.          6.9999685 178.35532     7.0000315]\n"
     ]
    },
    {
     "data": {
      "image/png": "[encoded data removed]",
      "text/plain": [
       "<Figure size 432x288 with 1 Axes>"
      ]
     },
     "metadata": {
      "needs_background": "light"
     },
     "output_type": "display_data"
    }
   ],
   "source": [
    "import matplotlib.pyplot as plt\n",
    "import numpy as np\n",
    "\n",
    "x_val = x_test[y_test==2]\n",
    "y_val = y_test[y_test==2]\n",
    "\n",
    "passive_output = passive_model(x_val)\n",
    "active_output = active_model([passive_output, passive_output])\n",
    "\n",
    "output_distribution = np.sum(active_output, axis=0)\n",
    "print(output_distribution)\n",
    "\n",
    "n = 10\n",
    "X = np.arange(n)\n",
    "plt.bar(X, output_distribution)\n",
    "\n",
    "plt.show()"
   ]
  },
  {
   "cell_type": "code",
   "execution_count": 36,
   "metadata": {},
   "outputs": [
    {
     "name": "stdout",
     "output_type": "stream",
     "text": [
      "[[1. 0. 0. 0. 0. 0. 0. 0. 0. 0.]\n",
      " [0. 1. 0. 0. 0. 0. 0. 0. 0. 0.]\n",
      " [0. 0. 0. 0. 1. 0. 0. 0. 0. 0.]\n",
      " [0. 0. 0. 1. 0. 0. 0. 0. 0. 0.]\n",
      " [0. 0. 0. 0. 1. 0. 0. 0. 0. 0.]\n",
      " [0. 0. 0. 0. 0. 1. 0. 0. 0. 0.]\n",
      " [0. 0. 0. 0. 0. 0. 1. 0. 0. 0.]\n",
      " [0. 0. 0. 0. 0. 0. 0. 1. 0. 0.]\n",
      " [0. 0. 0. 0. 0. 0. 0. 0. 1. 0.]\n",
      " [0. 0. 0. 0. 0. 0. 0. 0. 0. 1.]]\n",
      "[[0.5301766  0.36834355 0.0751616  0.34628156 0.67369025 0.71920954\n",
      "  0.39001503 0.05330744 0.60812417 0.57757241]\n",
      " [0.11696672 0.91286319 0.76614699 0.18240779 0.34124305 0.64034105\n",
      "  0.14179049 0.5599264  0.92628808 0.04293072]\n",
      " [0.8208049  0.58776502 0.82512238 0.75042469 0.143793   0.9864077\n",
      "  0.28055798 0.66674831 0.15096047 0.8785071 ]]\n"
     ]
    },
    {
     "data": {
      "text/plain": [
       "array([[0.5301766 , 0.36834355, 0.        , 0.34628156, 0.74885185,\n",
       "        0.71920954, 0.39001503, 0.05330744, 0.60812417, 0.57757241],\n",
       "       [0.11696672, 0.91286319, 0.        , 0.18240779, 1.10739004,\n",
       "        0.64034105, 0.14179049, 0.5599264 , 0.92628808, 0.04293072],\n",
       "       [0.8208049 , 0.58776502, 0.        , 0.75042469, 0.96891539,\n",
       "        0.9864077 , 0.28055798, 0.66674831, 0.15096047, 0.8785071 ]])"
      ]
     },
     "execution_count": 36,
     "metadata": {},
     "output_type": "execute_result"
    }
   ],
   "source": [
    "N = 10\n",
    "class1 = 2\n",
    "class2 = 4\n",
    "alpha = 1.0\n",
    "\n",
    "attack_mat = np.eye(N, dtype='float32')\n",
    "attack_mat[:, class2] += attack_mat[:, class1]*alpha\n",
    "attack_mat[:, class1] -= attack_mat[:, class1]*alpha\n",
    "\n",
    "a = np.random.rand(3, N)\n",
    "print(attack_mat)\n",
    "b = np.matmul(a, attack_mat)\n",
    "print(a)\n",
    "b"
   ]
  }
 ],
 "metadata": {
  "kernelspec": {
   "display_name": "Python 3",
   "language": "python",
   "name": "python3"
  },
  "language_info": {
   "codemirror_mode": {
    "name": "ipython",
    "version": 3
   },
   "file_extension": ".py",
   "mimetype": "text/x-python",
   "name": "python",
   "nbconvert_exporter": "python",
   "pygments_lexer": "ipython3",
   "version": "3.7.3"
  }
 },
 "nbformat": 4,
 "nbformat_minor": 2
}
