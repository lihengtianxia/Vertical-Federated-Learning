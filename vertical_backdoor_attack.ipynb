{
 "cells": [
  {
   "cell_type": "code",
   "execution_count": 1,
   "metadata": {},
   "outputs": [],
   "source": [
    "import tensorflow as tf\n",
    "from tensorflow.keras.layers import Dense, Flatten \n",
    "from tensorflow.keras import Model\n",
    "import matplotlib.pyplot as plt\n",
    "import numpy as np\n",
    "\n",
    "# # Download a dataset\n",
    "# (x_train, y_train), (x_test, y_test) = tf.keras.datasets.mnist.load_data()\n",
    "\n",
    "# # Batch and shuffle the data\n",
    "# train_ds = tf.data.Dataset.from_tensor_slices(\n",
    "#     (x_train.astype('float32') / 255, y_train)).shuffle(1024).batch(32)\n",
    "\n",
    "# test_ds = tf.data.Dataset.from_tensor_slices(\n",
    "#     (x_test.astype('float32') / 255, y_test)).batch(32)\n"
   ]
  },
  {
   "cell_type": "code",
   "execution_count": 2,
   "metadata": {},
   "outputs": [
    {
     "name": "stdout",
     "output_type": "stream",
     "text": [
      "['sky', 'clouds', 'person', 'water', 'animal']\n",
      "df shape (161789, 1)\n",
      "df shape (161789, 1)\n",
      "df shape (161789, 1)\n",
      "df shape (161789, 1)\n",
      "df shape (161789, 1)\n",
      "(60157, 5)\n",
      "data_dir: \n",
      "features_path: NUS_WIDE/NUS_WID_Low_Level_Features/Low_Level_Features\n",
      "b datasets features 64\n",
      "b datasets features 225\n",
      "b datasets features 144\n",
      "b datasets features 73\n",
      "b datasets features 128\n",
      "X image shape: (60157, 634)\n",
      "X text shape: (60157, 1000)\n",
      "<class 'numpy.ndarray'> <class 'numpy.ndarray'> <class 'numpy.ndarray'>\n"
     ]
    }
   ],
   "source": [
    "from nus_wide_data_util import get_labeled_data, get_top_k_labels\n",
    "\n",
    "class_num = 5\n",
    "\n",
    "top_k = get_top_k_labels('', top_k=class_num)\n",
    "print(top_k)\n",
    "\n",
    "data_X_image, data_X_text, data_Y = get_labeled_data('', top_k, 60000)\n",
    "print(type(data_X_image), type(data_X_text), type(data_Y))\n",
    "train_num = 50000\n",
    "\n",
    "x_train, x_test, y_train, y_test = (np.array(data_X_image[:train_num]).astype('float32'), np.array(data_X_text[:train_num]).astype('float32')), \\\n",
    "                                    (np.array(data_X_image[train_num:]).astype('float32'), np.array(data_X_text[train_num:]).astype('float32')), \\\n",
    "                                    np.array(data_Y[:train_num]).astype('float32'), np.array(data_Y[train_num:]).astype('float32')\n",
    "\n",
    "# Batch and shuffle the data\n",
    "train_ds = tf.data.Dataset.from_tensor_slices(\n",
    "    (x_train, y_train)).shuffle(1024).batch(32)\n",
    "\n",
    "test_ds = tf.data.Dataset.from_tensor_slices(\n",
    "    (x_test, y_test)).batch(32)\n"
   ]
  },
  {
   "cell_type": "code",
   "execution_count": 3,
   "metadata": {},
   "outputs": [
    {
     "data": {
      "text/plain": [
       "array([2156.,  564., 3775., 1093., 2412.], dtype=float32)"
      ]
     },
     "execution_count": 3,
     "metadata": {},
     "output_type": "execute_result"
    }
   ],
   "source": [
    "np.sum(y_test, axis=0)"
   ]
  },
  {
   "cell_type": "code",
   "execution_count": 4,
   "metadata": {},
   "outputs": [],
   "source": [
    "class VFLPassiveModel(Model):\n",
    "    def __init__(self):\n",
    "        super(VFLPassiveModel, self).__init__()\n",
    "        self.flatten = Flatten()\n",
    "        self.d1 = Dense(class_num, name=\"dense1\")\n",
    "\n",
    "    def call(self, x):\n",
    "        x = self.flatten(x)\n",
    "        return self.d1(x)"
   ]
  },
  {
   "cell_type": "code",
   "execution_count": 5,
   "metadata": {},
   "outputs": [],
   "source": [
    "import numpy as np\n",
    "\n",
    "class VFLActiveModel(Model):\n",
    "    def __init__(self):\n",
    "        super(VFLActiveModel, self).__init__()\n",
    "        self.added = tf.keras.layers.Add()\n",
    "\n",
    "    def call(self, x):\n",
    "        x = self.added(x)\n",
    "        return tf.keras.layers.Softmax()(x)"
   ]
  },
  {
   "cell_type": "code",
   "execution_count": 14,
   "metadata": {},
   "outputs": [
    {
     "name": "stdout",
     "output_type": "stream",
     "text": [
      "Epoch 1, Loss: 0.6885123252868652, Accuracy: 75.93600463867188, Test Loss: 0.6690757870674133, Test Accuracy: 76.77000427246094\n",
      "Epoch 2, Loss: 0.4942583739757538, Accuracy: 83.1719970703125, Test Loss: 0.6064096093177795, Test Accuracy: 79.06999969482422\n",
      "Epoch 3, Loss: 0.4461654722690582, Accuracy: 84.6199951171875, Test Loss: 0.5867884755134583, Test Accuracy: 79.66999816894531\n",
      "Epoch 4, Loss: 0.42267748713493347, Accuracy: 85.34400177001953, Test Loss: 0.5739940404891968, Test Accuracy: 80.26000213623047\n",
      "Epoch 5, Loss: 0.4080345034599304, Accuracy: 85.68000030517578, Test Loss: 0.5710135698318481, Test Accuracy: 80.33000183105469\n"
     ]
    }
   ],
   "source": [
    "# normal training\n",
    "\n",
    "passive_model_image = VFLPassiveModel()\n",
    "passive_model_text = VFLPassiveModel()\n",
    "active_model = VFLActiveModel()\n",
    "\n",
    "loss_object = tf.keras.losses.CategoricalCrossentropy()\n",
    "optimizer = tf.keras.optimizers.Adam()\n",
    "\n",
    "train_loss = tf.keras.metrics.Mean(name='train_loss')\n",
    "train_accuracy = tf.keras.metrics.CategoricalAccuracy(name='train_accuracy')\n",
    "\n",
    "test_loss = tf.keras.metrics.Mean(name='test_loss')\n",
    "test_accuracy = tf.keras.metrics.CategoricalAccuracy(name='test_accuracy')\n",
    "\n",
    "EPOCHS = 5\n",
    "\n",
    "for epoch in range(EPOCHS):\n",
    "    # For each batch of images and labels\n",
    "    for (images, texts), labels in train_ds:\n",
    "        with tf.GradientTape() as passive_tape:\n",
    "            # passive_model sends passive_output to active_model\n",
    "            passive_image_output = passive_model_image(images)\n",
    "            passive_text_output = passive_model_text(texts)\n",
    "            with tf.GradientTape() as active_tape:\n",
    "                active_tape.watch(passive_image_output)\n",
    "                active_tape.watch(passive_text_output)\n",
    "                active_output = active_model([passive_image_output, passive_text_output])\n",
    "                loss = loss_object(labels, active_output)\n",
    "            # active_model sends passive_output_gradients back to passive_model\n",
    "            [active_image_gradients, active_text_gradients] = active_tape.gradient(loss, [passive_image_output, passive_text_output])\n",
    "            passive_image_loss = tf.multiply(passive_image_output, active_image_gradients.numpy())\n",
    "            passive_text_loss = tf.multiply(passive_text_output, active_text_gradients.numpy())\n",
    "        [passive_image_gradients, passive_text_gradients] = \\\n",
    "        passive_tape.gradient([passive_image_loss, passive_text_loss], \\\n",
    "                              [passive_model_image.trainable_variables, passive_model_text.trainable_variables])\n",
    "        optimizer.apply_gradients(zip(passive_image_gradients, passive_model_image.trainable_variables))\n",
    "        optimizer.apply_gradients(zip(passive_text_gradients, passive_model_text.trainable_variables))\n",
    "        \n",
    "        train_loss(loss)\n",
    "        train_accuracy(labels, active_output)\n",
    "\n",
    "    for (test_images, test_texts), test_labels in test_ds:\n",
    "        passive_output = [passive_model_image(test_images), passive_model_text(test_texts)]\n",
    "        active_output = active_model(passive_output)\n",
    "        t_loss = loss_object(test_labels, active_output)\n",
    "\n",
    "        test_loss(t_loss)\n",
    "        test_accuracy(test_labels, active_output)\n",
    "\n",
    "    template = 'Epoch {}, Loss: {}, Accuracy: {}, Test Loss: {}, Test Accuracy: {}'\n",
    "    print(template.format(epoch+1,\n",
    "                        train_loss.result(),\n",
    "                        train_accuracy.result()*100,\n",
    "                        test_loss.result(),\n",
    "                        test_accuracy.result()*100))\n",
    "\n",
    "    # Reset the metrics for the next epoch\n",
    "    train_loss.reset_states()\n",
    "    train_accuracy.reset_states()\n",
    "    test_loss.reset_states()\n",
    "    test_accuracy.reset_states()"
   ]
  },
  {
   "cell_type": "code",
   "execution_count": 15,
   "metadata": {},
   "outputs": [],
   "source": [
    "import numpy as np\n",
    "\n",
    "def get_possioned_gradients(passive_output_gradients, passive_output, N, class1, class2, alpha = 1.0):\n",
    "    #passive_output_gradients -= passive_output\n",
    "    attack_mat = np.eye(N, dtype='float32')\n",
    "    attack_mat[:, class2] += attack_mat[:, class1]*alpha\n",
    "    attack_mat[:, class1] -= attack_mat[:, class1]*alpha\n",
    "    passive_output_gradients = tf.matmul(passive_output_gradients, attack_mat)\n",
    "    #passive_output_gradients += passive_output\n",
    "    return passive_output_gradients"
   ]
  },
  {
   "cell_type": "code",
   "execution_count": 9,
   "metadata": {},
   "outputs": [
    {
     "name": "stdout",
     "output_type": "stream",
     "text": [
      "Epoch 1, Loss: 3.917205572128296, Accuracy: 60.821998596191406, Test Loss: 4.964493751525879, Test Accuracy: 55.75\n",
      "Epoch 2, Loss: 4.0639872550964355, Accuracy: 64.24400329589844, Test Loss: 4.870058536529541, Test Accuracy: 58.64999771118164\n",
      "Epoch 3, Loss: 4.059752941131592, Accuracy: 65.54399871826172, Test Loss: 4.841984272003174, Test Accuracy: 60.28000259399414\n",
      "Epoch 4, Loss: 4.139057159423828, Accuracy: 66.14400482177734, Test Loss: 4.962497711181641, Test Accuracy: 59.380001068115234\n",
      "Epoch 5, Loss: 4.0564422607421875, Accuracy: 67.2439956665039, Test Loss: 4.755265235900879, Test Accuracy: 62.339996337890625\n"
     ]
    }
   ],
   "source": [
    "# backdoor training\n",
    "\n",
    "passive_model_image = VFLPassiveModel()\n",
    "passive_model_text = VFLPassiveModel()\n",
    "active_model = VFLActiveModel()\n",
    "\n",
    "loss_object = tf.keras.losses.CategoricalCrossentropy()\n",
    "optimizer = tf.keras.optimizers.Adam()\n",
    "optimizer_attack = tf.keras.optimizers.Adam(lr=0.1)\n",
    "\n",
    "train_loss = tf.keras.metrics.Mean(name='train_loss')\n",
    "train_accuracy = tf.keras.metrics.CategoricalAccuracy(name='train_accuracy')\n",
    "\n",
    "test_loss = tf.keras.metrics.Mean(name='test_loss')\n",
    "test_accuracy = tf.keras.metrics.CategoricalAccuracy(name='test_accuracy')\n",
    "\n",
    "EPOCHS = 5\n",
    "\n",
    "for epoch in range(EPOCHS):\n",
    "    # For each batch of images and labels\n",
    "    for (images, texts), labels in train_ds:\n",
    "        with tf.GradientTape() as passive_tape:\n",
    "            # passive_model sends passive_output to active_model\n",
    "            passive_image_output = passive_model_image(images)\n",
    "            passive_text_output = passive_model_text(texts)\n",
    "            with tf.GradientTape() as active_tape:\n",
    "                active_tape.watch(passive_image_output)\n",
    "                active_tape.watch(passive_text_output)\n",
    "                active_output = active_model([passive_image_output, passive_text_output])\n",
    "                loss = loss_object(labels, active_output)\n",
    "            # active_model sends passive_output_gradients back to passive_model\n",
    "            [active_image_gradients, active_text_gradients] = active_tape.gradient(loss, [passive_image_output, passive_text_output])\n",
    "            active_image_gradients = get_possioned_gradients(active_image_gradients, passive_image_output, 5, 3, 4)\n",
    "            #active_text_gradients = get_possioned_gradients(active_text_gradients, passive_text_output, 5, 3, 4)\n",
    "            passive_image_loss = tf.multiply(passive_image_output, active_image_gradients.numpy())\n",
    "            passive_text_loss = tf.multiply(passive_text_output, active_text_gradients.numpy())\n",
    "        [passive_image_gradients, passive_text_gradients] = \\\n",
    "        passive_tape.gradient([passive_image_loss, passive_text_loss], \\\n",
    "                              [passive_model_image.trainable_variables, passive_model_text.trainable_variables])\n",
    "        #optimizer.apply_gradients(zip(passive_image_gradients, passive_model_image.trainable_variables))\n",
    "        optimizer_attack.apply_gradients(zip(passive_image_gradients, passive_model_image.trainable_variables))\n",
    "        optimizer.apply_gradients(zip(passive_text_gradients, passive_model_text.trainable_variables))\n",
    "        #optimizer_attack.apply_gradients(zip(passive_text_gradients, passive_model_text.trainable_variables))\n",
    "        \n",
    "        train_loss(loss)\n",
    "        train_accuracy(labels, active_output)\n",
    "\n",
    "    for (test_images, test_texts), test_labels in test_ds:\n",
    "        passive_output = [passive_model_image(test_images), passive_model_text(test_texts)]\n",
    "        active_output = active_model(passive_output)\n",
    "        t_loss = loss_object(test_labels, active_output)\n",
    "\n",
    "        test_loss(t_loss)\n",
    "        test_accuracy(test_labels, active_output)\n",
    "\n",
    "    template = 'Epoch {}, Loss: {}, Accuracy: {}, Test Loss: {}, Test Accuracy: {}'\n",
    "    print(template.format(epoch+1,\n",
    "                        train_loss.result(),\n",
    "                        train_accuracy.result()*100,\n",
    "                        test_loss.result(),\n",
    "                        test_accuracy.result()*100))\n",
    "\n",
    "    # Reset the metrics for the next epoch\n",
    "    train_loss.reset_states()\n",
    "    train_accuracy.reset_states()\n",
    "    test_loss.reset_states()\n",
    "    test_accuracy.reset_states()"
   ]
  },
  {
   "cell_type": "code",
   "execution_count": 16,
   "metadata": {},
   "outputs": [
    {
     "name": "stdout",
     "output_type": "stream",
     "text": [
      "(10000, 634) (10000, 1000)\n",
      "(564, 634) (564, 1000)\n",
      "[318.85553   95.33841   71.49886   47.012733  31.294613]\n"
     ]
    },
    {
     "data": {
      "image/png": "[encoded data removed]",
      "text/plain": [
       "<Figure size 432x288 with 1 Axes>"
      ]
     },
     "metadata": {
      "needs_background": "light"
     },
     "output_type": "display_data"
    }
   ],
   "source": [
    "import matplotlib.pyplot as plt\n",
    "import numpy as np\n",
    "\n",
    "label_test = np.argmax(y_test, axis=1)\n",
    "(image_test, text_test) = x_test\n",
    "print(image_test.shape, text_test.shape)\n",
    "image_val = image_test[label_test==1]\n",
    "text_val = text_test[label_test==1]\n",
    "print(image_val.shape, text_val.shape)\n",
    "y_val = y_test[label_test==1]\n",
    "\n",
    "passive_output = [passive_model_image(image_val), passive_model_text(text_val)]\n",
    "active_output = active_model(passive_output)\n",
    "\n",
    "output_distribution = np.sum(active_output, axis=0)\n",
    "print(output_distribution)\n",
    "\n",
    "n = 5\n",
    "X = np.arange(n)\n",
    "plt.bar(X, output_distribution)\n",
    "\n",
    "plt.show()"
   ]
  },
  {
   "cell_type": "code",
   "execution_count": null,
   "metadata": {},
   "outputs": [],
   "source": [
    "class MyLinearModel(Model):\n",
    "  def __init__(self):\n",
    "    super(MyLinearModel, self).__init__()\n",
    "    self.flatten = Flatten()\n",
    "    self.d1 = Dense(class_num, activation='softmax', name=\"dense1\")\n",
    "\n",
    "  def call(self, x):\n",
    "    x = self.flatten(x)\n",
    "    return self.d1(x)\n",
    "\n",
    "model = MyLinearModel()"
   ]
  },
  {
   "cell_type": "code",
   "execution_count": null,
   "metadata": {},
   "outputs": [],
   "source": [
    "loss_object = tf.keras.losses.SparseCategoricalCrossentropy()\n",
    "optimizer = tf.keras.optimizers.Adam()\n",
    "\n",
    "train_loss = tf.keras.metrics.Mean(name='train_loss')\n",
    "train_accuracy = tf.keras.metrics.SparseCategoricalAccuracy(name='train_accuracy')\n",
    "\n",
    "test_loss = tf.keras.metrics.Mean(name='test_loss')\n",
    "test_accuracy = tf.keras.metrics.SparseCategoricalAccuracy(name='test_accuracy')\n",
    "\n",
    "EPOCHS = 5\n",
    "\n",
    "for epoch in range(EPOCHS):\n",
    "  # For each batch of images and labels\n",
    "  for images, labels in train_ds:\n",
    "    with tf.GradientTape() as tape:\n",
    "      predictions = model(images)\n",
    "      loss = loss_object(labels, predictions)\n",
    "    gradients = tape.gradient(loss, model.trainable_variables)\n",
    "    print(gradients[0].shape, gradients[1].shape)\n",
    "    optimizer.apply_gradients(zip(gradients, model.trainable_variables))\n",
    "\n",
    "    train_loss(loss)\n",
    "    train_accuracy(labels, predictions)\n",
    "\n",
    "  for test_images, test_labels in test_ds:\n",
    "    predictions = model(test_images)\n",
    "    t_loss = loss_object(test_labels, predictions)\n",
    "\n",
    "    test_loss(t_loss)\n",
    "    test_accuracy(test_labels, predictions)\n",
    "\n",
    "  template = 'Epoch {}, Loss: {}, Accuracy: {}, Test Loss: {}, Test Accuracy: {}'\n",
    "  print(template.format(epoch+1,\n",
    "                        train_loss.result(),\n",
    "                        train_accuracy.result()*100,\n",
    "                        test_loss.result(),\n",
    "                        test_accuracy.result()*100))\n",
    "\n",
    "  # Reset the metrics for the next epoch\n",
    "  train_loss.reset_states()\n",
    "  train_accuracy.reset_states()\n",
    "  test_loss.reset_states()\n",
    "  test_accuracy.reset_states()"
   ]
  },
  {
   "cell_type": "code",
   "execution_count": null,
   "metadata": {},
   "outputs": [],
   "source": [
    "with tf.GradientTape() as tape:\n",
    "    a = tf.constant(2.)\n",
    "    b = tf.constant(1.)\n",
    "    tape.watch(a)\n",
    "    tape.watch(b)\n",
    "    c = tf.multiply(a, b)\n",
    "g = tape.gradient(c, [a, b])\n",
    "print(g)"
   ]
  }
 ],
 "metadata": {
  "kernelspec": {
   "display_name": "Python 3",
   "language": "python",
   "name": "python3"
  },
  "language_info": {
   "codemirror_mode": {
    "name": "ipython",
    "version": 3
   },
   "file_extension": ".py",
   "mimetype": "text/x-python",
   "name": "python",
   "nbconvert_exporter": "python",
   "pygments_lexer": "ipython3",
   "version": "3.7.3"
  }
 },
 "nbformat": 4,
 "nbformat_minor": 2
}
